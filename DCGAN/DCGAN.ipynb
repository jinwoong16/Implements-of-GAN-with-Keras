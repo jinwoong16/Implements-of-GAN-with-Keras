{
 "cells": [
  {
   "cell_type": "code",
   "execution_count": 43,
   "metadata": {},
   "outputs": [],
   "source": [
    "import matplotlib.pyplot as plt\n",
    "import tensorflow as tf\n",
    "from tensorflow import keras\n",
    "from tensorflow.keras.layers import Dense, Reshape, LeakyReLU, Conv2D, GlobalMaxPooling2D, Conv2DTranspose\n",
    "from tensorflow.keras.models import Model"
   ]
  },
  {
   "cell_type": "code",
   "execution_count": 44,
   "metadata": {},
   "outputs": [],
   "source": [
    "class GAN(keras.Model):\n",
    "  def __init__(self):\n",
    "    super(GAN, self).__init__()\n",
    "    self.latent_dim = 128\n",
    "    self.generator = self.build_gen()\n",
    "    self.discriminator = self.build_disc()\n",
    "\n",
    "  def compile(self, d_optimizer, g_optimizer, loss_fn):\n",
    "    super(GAN, self).compile()\n",
    "    self.d_optimizer = d_optimizer\n",
    "    self.g_optimizer = g_optimizer\n",
    "    self.loss_fn = loss_fn\n",
    "\n",
    "  def train_step(self, real):\n",
    "    batch_size = tf.shape(real)[0]\n",
    "    noise = tf.random.normal([batch_size, self.latent_dim])\n",
    "\n",
    "    with tf.GradientTape() as gen_tape, tf.GradientTape() as disc_tape:\n",
    "      generated_images = self.generator(noise, training=True)\n",
    "      \n",
    "      real_output = self.discriminator(real, training=True)\n",
    "      fake_output = self.discriminator(generated_images, training=True)\n",
    "\n",
    "      d_loss = self.loss_fn(tf.ones_like(real_output), real_output) + self.loss_fn(tf.zeros_like(fake_output), fake_output)\n",
    "      g_loss = self.loss_fn(tf.ones_like(fake_output), fake_output)\n",
    "\n",
    "    gradients_of_discriminator = disc_tape.gradient(d_loss, self.discriminator.trainable_weights)\n",
    "    gradients_of_generator = gen_tape.gradient(g_loss, self.generator.trainable_weights)\n",
    "\n",
    "    self.d_optimizer.apply_gradients(zip(gradients_of_discriminator, self.discriminator.trainable_weights))\n",
    "    self.g_optimizer.apply_gradients(zip(gradients_of_generator, self.generator.trainable_weights))\n",
    "    \n",
    "    return {\"d_loss\": d_loss, \"g_loss\": g_loss}\n",
    "\n",
    "  def plot_images(self):\n",
    "    seed = tf.random.normal([4, 128])\n",
    "    predictions = self.generator(seed, training=False)\n",
    "    print(type(predictions))\n",
    "\n",
    "    fig = plt.figure(figsize=(4,4))\n",
    "    for i in range(predictions.shape[0]):\n",
    "      plt.subplot(1, 4, i+1)\n",
    "      plt.imshow(predictions[i, :, :, 0] * 255.0, cmap=\"gray\")\n",
    "      plt.axis(\"off\")\n",
    "    plt.show()\n",
    "\n",
    "  def build_disc(self):\n",
    "    # inputs = keras.Input(shape=(self.latent_dim,))\n",
    "    # x = Dense(128)(inputs)\n",
    "    # x = LeakyReLU(alpha=0.2)(x)\n",
    "    # x = Dense(256)(x)\n",
    "    # x = LeakyReLU(alpha=0.2)(x)\n",
    "    # x = Dense(28*28*1, activation=\"tanh\")(x)\n",
    "    # outputs = Reshape((28,28,1))(x)\n",
    "    # model = Model(inputs=inputs, outputs=outputs)\n",
    "    # return model\n",
    "    discriminator = keras.Sequential(\n",
    "    [\n",
    "        keras.Input(shape=(28, 28, 1)),\n",
    "        Conv2D(64, (3, 3), strides=(2, 2), padding=\"same\"),\n",
    "        LeakyReLU(alpha=0.2),\n",
    "        Conv2D(128, (3, 3), strides=(2, 2), padding=\"same\"),\n",
    "        LeakyReLU(alpha=0.2),\n",
    "        GlobalMaxPooling2D(),\n",
    "        Dense(1),\n",
    "    ],\n",
    "      name=\"discriminator\",\n",
    "    )\n",
    "    return discriminator\n",
    "\n",
    "  \n",
    "  def build_gen(self):\n",
    "    # inputs = keras.Input(shape=(28,28,1))\n",
    "    # x = Dense(512)(inputs)\n",
    "    # x = LeakyReLU(alpha=0.2)(x)\n",
    "    # x = Dense(256)(x)\n",
    "    # x = LeakyReLU(alpha=0.2)(x)\n",
    "    # outputs = Dense(1)(x)\n",
    "    # model = Model(inputs=inputs, outputs=outputs)\n",
    "    # return model\n",
    "    generator = keras.Sequential(\n",
    "    [\n",
    "        keras.Input(shape=(128,)),\n",
    "        # We want to generate 128 coefficients to reshape into a 7x7x128 map\n",
    "        Dense(7 * 7 * 128),\n",
    "        LeakyReLU(alpha=0.2),\n",
    "        Reshape((7, 7, 128)),\n",
    "        Conv2DTranspose(128, (4, 4), strides=(2, 2), padding=\"same\"),\n",
    "        LeakyReLU(alpha=0.2),\n",
    "        Conv2DTranspose(128, (4, 4), strides=(2, 2), padding=\"same\"),\n",
    "        LeakyReLU(alpha=0.2),\n",
    "        Conv2D(1, (7, 7), padding=\"same\", activation=\"sigmoid\"),\n",
    "    ],\n",
    "      name=\"generator\",\n",
    "    )\n",
    "    return generator"
   ]
  },
  {
   "cell_type": "code",
   "execution_count": 45,
   "metadata": {},
   "outputs": [],
   "source": [
    "import numpy as np\n",
    "gan = GAN()\n",
    "(X_train, _), (_, _) = keras.datasets.mnist.load_data()\n",
    "X_train = X_train.astype(\"float32\") / 255.0\n",
    "X_train = np.reshape(X_train, (-1, 28,28,1))"
   ]
  },
  {
   "cell_type": "code",
   "execution_count": 46,
   "metadata": {},
   "outputs": [],
   "source": [
    "dataset = tf.data.Dataset.from_tensor_slices(X_train)\n",
    "dataset = dataset.shuffle(buffer_size=1024).batch(64)"
   ]
  },
  {
   "cell_type": "code",
   "execution_count": 47,
   "metadata": {},
   "outputs": [],
   "source": [
    "gan.compile(\n",
    "  d_optimizer=keras.optimizers.Adam(learning_rate=3e-4),\n",
    "  g_optimizer=keras.optimizers.Adam(learning_rate=3e-4),\n",
    "  loss_fn = keras.losses.BinaryCrossentropy(from_logits=True)\n",
    ")"
   ]
  },
  {
   "cell_type": "code",
   "execution_count": 48,
   "metadata": {},
   "outputs": [
    {
     "name": "stdout",
     "output_type": "stream",
     "text": [
      "Epoch 1/20\n"
     ]
    },
    {
     "name": "stderr",
     "output_type": "stream",
     "text": [
      "2021-12-31 15:36:42.186318: I tensorflow/core/grappler/optimizers/custom_graph_optimizer_registry.cc:112] Plugin optimizer for device_type GPU is enabled.\n"
     ]
    },
    {
     "name": "stdout",
     "output_type": "stream",
     "text": [
      "938/938 [==============================] - 90s 95ms/step - d_loss: 0.7962 - g_loss: 1.8900\n",
      "Epoch 2/20\n",
      "938/938 [==============================] - 89s 95ms/step - d_loss: 0.8246 - g_loss: 1.3605\n",
      "Epoch 3/20\n",
      "938/938 [==============================] - 89s 95ms/step - d_loss: 0.8107 - g_loss: 1.5872\n",
      "Epoch 4/20\n",
      "938/938 [==============================] - 88s 94ms/step - d_loss: 1.2642 - g_loss: 0.8489\n",
      "Epoch 5/20\n",
      "938/938 [==============================] - 90s 96ms/step - d_loss: 1.3166 - g_loss: 0.7988\n",
      "Epoch 6/20\n",
      "938/938 [==============================] - 89s 95ms/step - d_loss: 1.2810 - g_loss: 0.8173\n",
      "Epoch 7/20\n",
      "938/938 [==============================] - 89s 95ms/step - d_loss: 1.2626 - g_loss: 0.8460\n",
      "Epoch 8/20\n",
      "938/938 [==============================] - 90s 95ms/step - d_loss: 1.1833 - g_loss: 0.9459\n",
      "Epoch 9/20\n",
      "938/938 [==============================] - 90s 95ms/step - d_loss: 1.2094 - g_loss: 0.8932\n",
      "Epoch 10/20\n",
      "938/938 [==============================] - 91s 97ms/step - d_loss: 1.1627 - g_loss: 0.9344\n",
      "Epoch 11/20\n",
      "938/938 [==============================] - 90s 96ms/step - d_loss: 1.1522 - g_loss: 0.9514\n",
      "Epoch 12/20\n",
      "938/938 [==============================] - 90s 96ms/step - d_loss: 1.1423 - g_loss: 0.9646\n",
      "Epoch 13/20\n",
      "938/938 [==============================] - 91s 97ms/step - d_loss: 1.1255 - g_loss: 0.9858\n",
      "Epoch 14/20\n",
      "938/938 [==============================] - 93s 99ms/step - d_loss: 1.1105 - g_loss: 1.0038\n",
      "Epoch 15/20\n",
      "938/938 [==============================] - 93s 99ms/step - d_loss: 1.0971 - g_loss: 1.0285\n",
      "Epoch 16/20\n",
      "938/938 [==============================] - 94s 101ms/step - d_loss: 1.0922 - g_loss: 1.0315\n",
      "Epoch 17/20\n",
      "938/938 [==============================] - 98s 104ms/step - d_loss: 1.1094 - g_loss: 1.0316\n",
      "Epoch 18/20\n",
      "938/938 [==============================] - 94s 100ms/step - d_loss: 1.1314 - g_loss: 0.9950\n",
      "Epoch 19/20\n",
      "938/938 [==============================] - 95s 101ms/step - d_loss: 1.1473 - g_loss: 0.9844\n",
      "Epoch 20/20\n",
      "938/938 [==============================] - 95s 101ms/step - d_loss: 1.1644 - g_loss: 0.9727\n"
     ]
    },
    {
     "data": {
      "text/plain": [
       "<keras.callbacks.History at 0x17774b1f0>"
      ]
     },
     "execution_count": 48,
     "metadata": {},
     "output_type": "execute_result"
    }
   ],
   "source": [
    "gan.fit(dataset, epochs=20)"
   ]
  },
  {
   "cell_type": "code",
   "execution_count": 49,
   "metadata": {},
   "outputs": [
    {
     "name": "stdout",
     "output_type": "stream",
     "text": [
      "<class 'tensorflow.python.framework.ops.EagerTensor'>\n"
     ]
    },
    {
     "data": {
      "image/png": "[encoded data removed]",
      "text/plain": [
       "<Figure size 288x288 with 4 Axes>"
      ]
     },
     "metadata": {
      "needs_background": "light"
     },
     "output_type": "display_data"
    }
   ],
   "source": [
    "gan.plot_images()"
   ]
  },
  {
   "cell_type": "code",
   "execution_count": 50,
   "metadata": {},
   "outputs": [
    {
     "name": "stdout",
     "output_type": "stream",
     "text": [
      "Model: \"generator\"\n",
      "_________________________________________________________________\n",
      "Layer (type)                 Output Shape              Param #   \n",
      "=================================================================\n",
      "dense_28 (Dense)             (None, 6272)              809088    \n",
      "_________________________________________________________________\n",
      "leaky_re_lu_26 (LeakyReLU)   (None, 6272)              0         \n",
      "_________________________________________________________________\n",
      "reshape_6 (Reshape)          (None, 7, 7, 128)         0         \n",
      "_________________________________________________________________\n",
      "conv2d_transpose_4 (Conv2DTr (None, 14, 14, 128)       262272    \n",
      "_________________________________________________________________\n",
      "leaky_re_lu_27 (LeakyReLU)   (None, 14, 14, 128)       0         \n",
      "_________________________________________________________________\n",
      "conv2d_transpose_5 (Conv2DTr (None, 28, 28, 128)       262272    \n",
      "_________________________________________________________________\n",
      "leaky_re_lu_28 (LeakyReLU)   (None, 28, 28, 128)       0         \n",
      "_________________________________________________________________\n",
      "conv2d_6 (Conv2D)            (None, 28, 28, 1)         6273      \n",
      "=================================================================\n",
      "Total params: 1,339,905\n",
      "Trainable params: 1,339,905\n",
      "Non-trainable params: 0\n",
      "_________________________________________________________________\n"
     ]
    }
   ],
   "source": [
    "gan.generator.summary()"
   ]
  },
  {
   "cell_type": "code",
   "execution_count": 51,
   "metadata": {},
   "outputs": [
    {
     "name": "stdout",
     "output_type": "stream",
     "text": [
      "Model: \"discriminator\"\n",
      "_________________________________________________________________\n",
      "Layer (type)                 Output Shape              Param #   \n",
      "=================================================================\n",
      "conv2d_7 (Conv2D)            (None, 14, 14, 64)        640       \n",
      "_________________________________________________________________\n",
      "leaky_re_lu_29 (LeakyReLU)   (None, 14, 14, 64)        0         \n",
      "_________________________________________________________________\n",
      "conv2d_8 (Conv2D)            (None, 7, 7, 128)         73856     \n",
      "_________________________________________________________________\n",
      "leaky_re_lu_30 (LeakyReLU)   (None, 7, 7, 128)         0         \n",
      "_________________________________________________________________\n",
      "global_max_pooling2d_2 (Glob (None, 128)               0         \n",
      "_________________________________________________________________\n",
      "dense_29 (Dense)             (None, 1)                 129       \n",
      "=================================================================\n",
      "Total params: 74,625\n",
      "Trainable params: 74,625\n",
      "Non-trainable params: 0\n",
      "_________________________________________________________________\n"
     ]
    }
   ],
   "source": [
    "gan.discriminator.summary()"
   ]
  }
 ],
 "metadata": {
  "interpreter": {
   "hash": "b5601cc3de308e48446f607872b7451b2f89d28b3545a531e5282300a2fb1db2"
  },
  "kernelspec": {
   "display_name": "Python 3.9.7 64-bit ('base': conda)",
   "language": "python",
   "name": "python3"
  },
  "language_info": {
   "codemirror_mode": {
    "name": "ipython",
    "version": 3
   },
   "file_extension": ".py",
   "mimetype": "text/x-python",
   "name": "python",
   "nbconvert_exporter": "python",
   "pygments_lexer": "ipython3",
   "version": "3.9.7"
  },
  "orig_nbformat": 4
 },
 "nbformat": 4,
 "nbformat_minor": 2
}
